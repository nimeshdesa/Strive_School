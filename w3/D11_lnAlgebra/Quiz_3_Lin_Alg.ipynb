{
 "cells": [
  {
   "cell_type": "markdown",
   "metadata": {},
   "source": [
    "## Linear Algebra Quiz #3\n",
    "\n",
    "![title](./img/3_0.jpeg)\n",
    "\n",
    "We strongly suggest working with numpy :)"
   ]
  },
  {
   "cell_type": "code",
   "execution_count": 2,
   "metadata": {},
   "outputs": [],
   "source": [
    "#Do your imports here\n",
    "import numpy as np"
   ]
  },
  {
   "cell_type": "markdown",
   "metadata": {},
   "source": [
    "![title](./img/3_2.png)\n",
    "![title](./img/3_3.png)\n",
    "Create a program that can output\n",
    "\n",
    "- What is the value of element c23​ of Matrix C where C=A x B ?\n",
    "- What is the value of element c23​ of Matrix C where C=B x A ?"
   ]
  },
  {
   "cell_type": "code",
   "execution_count": 35,
   "metadata": {},
   "outputs": [
    {
     "name": "stdout",
     "output_type": "stream",
     "text": [
      "(5, 1)\n",
      "(5, 3)\n",
      "[[   1.2    1.2   -2.4]\n",
      " [-135.   210.    -0. ]\n",
      " [  26.    -1.    88. ]\n",
      " [   5.    45.    20. ]\n",
      " [   0.     0.   490. ]]\n",
      "-0.0\n"
     ]
    }
   ],
   "source": [
    "A = np.array([0.6, -15, 2, 5, 98])[np.newaxis]\n",
    "A = A.T\n",
    "B= np.array([[2,2,-4],[9,-14,0],[13,-0.5,44],[1,9,4],[0,0,5]])\n",
    "print(A.shape)\n",
    "print(B.shape)\n",
    "C =A*B\n",
    "print(C)\n",
    "print(C[1,2]) # C23 when C = B*A or C =A*B"
   ]
  },
  {
   "cell_type": "code",
   "execution_count": 9,
   "metadata": {},
   "outputs": [],
   "source": [
    "# okay numpy is great but... how would you inverse a matrix by hand?\n",
    "\n",
    "def inverse_matrix(A):\n",
    "    A = [A[i]+[int(i==j) for j in range(len(A))] for i in range(len(A))]    # Stacking identity matrix\n",
    "    for i in range(len(A)): \n",
    "        A[i:] = sorted(A[i:], key=lambda r: -abs(r[i]))\n",
    "        A[i] = [A[i][j]/A[i][i] for j in range(len(A)*2)]\n",
    "        A = [[A[j][k] if i==j else A[j][k]-A[i][k]*A[j][i] for k in range(len(A)*2)] for j in range(len(A))]\n",
    "    \n",
    "    return [A[i][-len(A):] for i in range(len(A))]\n"
   ]
  },
  {
   "cell_type": "code",
   "execution_count": 10,
   "metadata": {},
   "outputs": [
    {
     "data": {
      "text/plain": [
       "[[-23.99999999999998, 17.999999999999986, 4.9999999999999964],\n",
       " [19.999999999999982, -14.999999999999988, -3.999999999999997],\n",
       " [-4.999999999999996, 3.999999999999997, 0.9999999999999992]]"
      ]
     },
     "execution_count": 10,
     "metadata": {},
     "output_type": "execute_result"
    }
   ],
   "source": [
    "n = [[1,2,3], [0,1,4], [5,6,0]]\n",
    "inverse_matrix(n)"
   ]
  },
  {
   "cell_type": "markdown",
   "metadata": {},
   "source": [
    "![title](./img/3_1.png)\n",
    "Create a program that can output\n",
    "\n",
    "- What is the value of the ijth element if i = 2 and j=3?\n",
    "- What is the value of the ijth element if i = 3 and j=1?"
   ]
  },
  {
   "cell_type": "code",
   "execution_count": 34,
   "metadata": {},
   "outputs": [
    {
     "name": "stdout",
     "output_type": "stream",
     "text": [
      "[[ 6.000000e+00 -1.014160e+03  1.157849e+02 -9.300000e+01]\n",
      " [ 7.000000e-01 -3.000000e+00 -2.700000e+00  1.767000e+01]\n",
      " [ 5.700000e+00  0.000000e+00 -8.000000e+00  6.000000e-03]]\n",
      "-2.7\n",
      "5.7\n"
     ]
    }
   ],
   "source": [
    "# Just answer using code --> easy stuff!\n",
    "A = np.array([[3, 0.6, 4, -3], [-1.3,4,0,8.6],[7,0,-8,0.006]])\n",
    "B = np.array([[3,-5.76,45,0],[2,-2,1.3,9],[-9,0,0,0]])\n",
    "C = np.array([[0,1009,-66.7849,90],[0,5,4,-0.07],[-7.7,0,0,0]])\n",
    "D = A+B-C\n",
    "\n",
    "def give_element(matrix,i,j):\n",
    "    return matrix[i,j]\n",
    "print(D)\n",
    "print(give_element(D,1,2))  # for i=2 and j=3\n",
    "print(give_element(D,2,0))  # for i=3 and j =1\n",
    "# Harder\n",
    "# Can you build a matrix solver that can do output the result given n matrices and a sequence of operations such as [add subtract multiply transpose?]\n",
    "#Some ideas on valid operations: Multiplication Addition Subtraction Inverstion Transposed. "
   ]
  },
  {
   "cell_type": "markdown",
   "metadata": {},
   "source": [
    "![title](./img/3_3.png)\n",
    "Create a program that can output\n",
    "- How many rows will C have?\n",
    "- How many columns will C have?\n",
    "- What will be the value of c13​?"
   ]
  },
  {
   "cell_type": "code",
   "execution_count": 32,
   "metadata": {},
   "outputs": [
    {
     "name": "stdout",
     "output_type": "stream",
     "text": [
      "(5, 1)\n",
      "(5, 3)\n",
      "Matrix have a 5 rows, and 3 columns.\n",
      "C13 =  -2.4\n"
     ]
    }
   ],
   "source": [
    "A = np.array([0.6, -15, 2, 5, 98])[np.newaxis]\n",
    "A = A.T\n",
    "B= np.array([[2,2,-4],[9,-14,0],[13,-0.5,44],[1,9,4],[0,0,5]])\n",
    "print(A.shape)\n",
    "print(B.shape)\n",
    "C =A*B\n",
    "def rows_colums_value(matrix,i,j):\n",
    "    rows = matrix.shape[0]\n",
    "    columns = matrix.shape[1]\n",
    "    value = matrix[i,j]\n",
    "    return rows,columns,value\n",
    "\n",
    "rws, clms, value = rows_colums_value(C,0,2)\n",
    "print(\"Matrix have a \" + str(rws) +' rows, and '+ str(clms) +' columns.')\n",
    "print(\"C13 = \",value)"
   ]
  }
 ],
 "metadata": {
  "kernelspec": {
   "display_name": "Python 3",
   "language": "python",
   "name": "python3"
  },
  "language_info": {
   "codemirror_mode": {
    "name": "ipython",
    "version": 3
   },
   "file_extension": ".py",
   "mimetype": "text/x-python",
   "name": "python",
   "nbconvert_exporter": "python",
   "pygments_lexer": "ipython3",
   "version": "3.6.9"
  }
 },
 "nbformat": 4,
 "nbformat_minor": 2
}
