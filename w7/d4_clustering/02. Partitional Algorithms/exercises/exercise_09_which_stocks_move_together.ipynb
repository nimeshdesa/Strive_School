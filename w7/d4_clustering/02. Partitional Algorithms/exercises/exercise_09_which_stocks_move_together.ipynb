{
 "cells": [
  {
   "cell_type": "markdown",
   "metadata": {},
   "source": [
    "# Exercise 9: Which stocks move together?\n",
    "\n",
    "In the previous exercise, you clustered companies by their daily stock price movements.  So which company have stock prices that tend to change in the same way?  Now inspect the cluster labels from your clustering to find out."
   ]
  },
  {
   "cell_type": "markdown",
   "metadata": {},
   "source": [
    "**Step 1:** Load the data _(written for you)_."
   ]
  },
  {
   "cell_type": "code",
   "execution_count": 3,
   "metadata": {
    "exercise": false
   },
   "outputs": [],
   "source": [
    "import pandas as pd\n",
    "\n",
    "fn = '../datasets/company-stock-movements-2010-2015-incl.csv'\n",
    "stocks_df = pd.read_csv(fn, index_col=0)"
   ]
  },
  {
   "cell_type": "markdown",
   "metadata": {},
   "source": [
    "**Step 2:** Run your code from the previous exercise _(filled in for you)_."
   ]
  },
  {
   "cell_type": "code",
   "execution_count": 6,
   "metadata": {
    "exercise": false
   },
   "outputs": [
    {
     "data": {
      "text/plain": [
       "Pipeline(steps=[('normalizer', Normalizer()),\n",
       "                ('kmeans', KMeans(n_clusters=14))])"
      ]
     },
     "execution_count": 6,
     "metadata": {},
     "output_type": "execute_result"
    }
   ],
   "source": [
    "companies = list(stocks_df.index)\n",
    "movements = stocks_df.values\n",
    "\n",
    "from sklearn.preprocessing import Normalizer\n",
    "from sklearn.cluster import KMeans\n",
    "from sklearn.pipeline import make_pipeline\n",
    "\n",
    "normalizer = Normalizer()\n",
    "kmeans = KMeans(n_clusters=14)\n",
    "pipeline = make_pipeline(normalizer, kmeans)\n",
    "pipeline.fit(movements)"
   ]
  },
  {
   "cell_type": "markdown",
   "metadata": {},
   "source": [
    "**Step 3:** Use the `.predict()` method of the pipeline to predict the labels for `movements`."
   ]
  },
  {
   "cell_type": "code",
   "execution_count": 8,
   "metadata": {},
   "outputs": [],
   "source": [
    "labels=pipeline.predict(movements)"
   ]
  },
  {
   "cell_type": "markdown",
   "metadata": {},
   "source": [
    "**Step 4:** Align the cluster labels with the list of company names `companies` by creating a DataFrame `df` with `labels` and `companies` as columns."
   ]
  },
  {
   "cell_type": "code",
   "execution_count": 9,
   "metadata": {},
   "outputs": [],
   "source": [
    "df = pd.DataFrame()\n",
    "df['labels'] = labels\n",
    "df['companies'] = companies"
   ]
  },
  {
   "cell_type": "markdown",
   "metadata": {},
   "source": [
    "**Step 5:** Now display the DataFrame, sorted by cluster label.  To do this, use the `.sort_values()` method of `df` to sort the DataFrame by the `'labels'` column."
   ]
  },
  {
   "cell_type": "code",
   "execution_count": 15,
   "metadata": {},
   "outputs": [
    {
     "data": {
      "text/plain": [
       "30     0\n",
       "3      0\n",
       "20     0\n",
       "41     1\n",
       "48     2\n",
       "45     2\n",
       "22     2\n",
       "7      2\n",
       "21     2\n",
       "34     2\n",
       "58     2\n",
       "35     2\n",
       "15     2\n",
       "13     3\n",
       "23     3\n",
       "32     3\n",
       "28     3\n",
       "12     3\n",
       "10     3\n",
       "8      3\n",
       "44     3\n",
       "57     3\n",
       "31     4\n",
       "42     4\n",
       "43     4\n",
       "46     4\n",
       "37     4\n",
       "52     4\n",
       "49     4\n",
       "19     4\n",
       "6      4\n",
       "26     5\n",
       "18     5\n",
       "1      5\n",
       "16     5\n",
       "5      5\n",
       "55     5\n",
       "47     6\n",
       "14     6\n",
       "4      7\n",
       "29     7\n",
       "36     7\n",
       "27     8\n",
       "9      8\n",
       "38     8\n",
       "54     8\n",
       "25     8\n",
       "40     8\n",
       "39     8\n",
       "51     9\n",
       "0      9\n",
       "33     9\n",
       "24     9\n",
       "11     9\n",
       "50     9\n",
       "56    10\n",
       "17    11\n",
       "2     11\n",
       "59    12\n",
       "53    13\n",
       "Name: labels, dtype: int32"
      ]
     },
     "execution_count": 15,
     "metadata": {},
     "output_type": "execute_result"
    }
   ],
   "source": [
    "df['labels'].sort_values()"
   ]
  },
  {
   "cell_type": "markdown",
   "metadata": {},
   "source": [
    "**Great job!** Using k-means, you've discovered which companies stock prices move together on the stock exchange."
   ]
  },
  {
   "cell_type": "code",
   "execution_count": null,
   "metadata": {
    "collapsed": true,
    "jupyter": {
     "outputs_hidden": true
    }
   },
   "outputs": [],
   "source": []
  }
 ],
 "metadata": {
  "kernelspec": {
   "display_name": "Python 3",
   "language": "python",
   "name": "python3"
  },
  "language_info": {
   "codemirror_mode": {
    "name": "ipython",
    "version": 3
   },
   "file_extension": ".py",
   "mimetype": "text/x-python",
   "name": "python",
   "nbconvert_exporter": "python",
   "pygments_lexer": "ipython3",
   "version": "3.7.4"
  }
 },
 "nbformat": 4,
 "nbformat_minor": 4
}
