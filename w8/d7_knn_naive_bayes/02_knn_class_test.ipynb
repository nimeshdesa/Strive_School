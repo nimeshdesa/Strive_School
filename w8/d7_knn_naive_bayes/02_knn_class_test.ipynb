{
 "cells": [
  {
   "cell_type": "markdown",
   "metadata": {},
   "source": [
    "# Let's test your implementation of KNN "
   ]
  },
  {
   "cell_type": "code",
   "execution_count": 1,
   "metadata": {},
   "outputs": [
    {
     "name": "stderr",
     "output_type": "stream",
     "text": [
      "C:\\Users\\NimeshsinhDesai\\Anaconda3\\envs\\SelfDrivingCar\\lib\\site-packages\\sklearn\\utils\\deprecation.py:143: FutureWarning: The sklearn.datasets.samples_generator module is  deprecated in version 0.22 and will be removed in version 0.24. The corresponding classes / functions should instead be imported from sklearn.datasets. Anything that cannot be imported from sklearn.datasets is now part of the private API.\n",
      "  warnings.warn(message, FutureWarning)\n"
     ]
    }
   ],
   "source": [
    "# import your class on KNN\n",
    "from KNNClassifier import KNN\n",
    "from sklearn.datasets.samples_generator import make_blobs\n",
    "import pandas as pd\n",
    "import numpy as np\n",
    "import matplotlib.pyplot as plt\n",
    "from sklearn.metrics import accuracy_score\n",
    "from sklearn.model_selection import train_test_split\n",
    "from sklearn import datasets"
   ]
  },
  {
   "cell_type": "code",
   "execution_count": 2,
   "metadata": {},
   "outputs": [],
   "source": [
    "assert KNN is not None # 'KNN should be imported'\n",
    "assert 'fit' in dir(KNN) and 'predict' in dir(KNN) # 'Your implementation should follow the sklearn standards (fit and predict methods)'"
   ]
  },
  {
   "cell_type": "markdown",
   "metadata": {},
   "source": [
    "# Pick 3 Datasets\n",
    "Either from the /datasets available in github (which should be familiar from last week) or by directly downloading any 3 datasets from the [UCI Machine Learning Repository](https://archive.ics.uci.edu/ml/index.php)"
   ]
  },
  {
   "cell_type": "markdown",
   "metadata": {},
   "source": [
    "# Import Dataset1:"
   ]
  },
  {
   "cell_type": "code",
   "execution_count": 3,
   "metadata": {},
   "outputs": [],
   "source": [
    "# Note: If you implemented Knn for one feature and one label only, you will have to trim the dataset.\n",
    "# BONUS: Extend your Knn Algorithm to be valid for any size of features in your dataset. \n",
    "# BONUS2: Create a function in your original knn class to calculate the time it takes to execute from start to finish.\n",
    "# data = make_blobs(n_samples=300, centers=4, n_features=2, cluster_std=0.6, random_state=0)\n",
    "# df = pd.DataFrame({'x1': data[0][:,0], 'x2': data[0][:,1], 'y': data[1]})\n",
    "# # df.reset_index()"
   ]
  },
  {
   "cell_type": "code",
   "execution_count": 3,
   "metadata": {},
   "outputs": [
    {
     "data": {
      "text/html": [
       "<div>\n",
       "<style scoped>\n",
       "    .dataframe tbody tr th:only-of-type {\n",
       "        vertical-align: middle;\n",
       "    }\n",
       "\n",
       "    .dataframe tbody tr th {\n",
       "        vertical-align: top;\n",
       "    }\n",
       "\n",
       "    .dataframe thead th {\n",
       "        text-align: right;\n",
       "    }\n",
       "</style>\n",
       "<table border=\"1\" class=\"dataframe\">\n",
       "  <thead>\n",
       "    <tr style=\"text-align: right;\">\n",
       "      <th></th>\n",
       "      <th>sepal length (cm)</th>\n",
       "      <th>sepal width (cm)</th>\n",
       "      <th>petal length (cm)</th>\n",
       "      <th>petal width (cm)</th>\n",
       "      <th>class</th>\n",
       "      <th>target</th>\n",
       "    </tr>\n",
       "  </thead>\n",
       "  <tbody>\n",
       "    <tr>\n",
       "      <th>14</th>\n",
       "      <td>5.8</td>\n",
       "      <td>4.0</td>\n",
       "      <td>1.2</td>\n",
       "      <td>0.2</td>\n",
       "      <td>setosa</td>\n",
       "      <td>0</td>\n",
       "    </tr>\n",
       "    <tr>\n",
       "      <th>98</th>\n",
       "      <td>5.1</td>\n",
       "      <td>2.5</td>\n",
       "      <td>3.0</td>\n",
       "      <td>1.1</td>\n",
       "      <td>versicolor</td>\n",
       "      <td>1</td>\n",
       "    </tr>\n",
       "    <tr>\n",
       "      <th>75</th>\n",
       "      <td>6.6</td>\n",
       "      <td>3.0</td>\n",
       "      <td>4.4</td>\n",
       "      <td>1.4</td>\n",
       "      <td>versicolor</td>\n",
       "      <td>1</td>\n",
       "    </tr>\n",
       "    <tr>\n",
       "      <th>16</th>\n",
       "      <td>5.4</td>\n",
       "      <td>3.9</td>\n",
       "      <td>1.3</td>\n",
       "      <td>0.4</td>\n",
       "      <td>setosa</td>\n",
       "      <td>0</td>\n",
       "    </tr>\n",
       "    <tr>\n",
       "      <th>131</th>\n",
       "      <td>7.9</td>\n",
       "      <td>3.8</td>\n",
       "      <td>6.4</td>\n",
       "      <td>2.0</td>\n",
       "      <td>virginica</td>\n",
       "      <td>2</td>\n",
       "    </tr>\n",
       "    <tr>\n",
       "      <th>56</th>\n",
       "      <td>6.3</td>\n",
       "      <td>3.3</td>\n",
       "      <td>4.7</td>\n",
       "      <td>1.6</td>\n",
       "      <td>versicolor</td>\n",
       "      <td>1</td>\n",
       "    </tr>\n",
       "    <tr>\n",
       "      <th>141</th>\n",
       "      <td>6.9</td>\n",
       "      <td>3.1</td>\n",
       "      <td>5.1</td>\n",
       "      <td>2.3</td>\n",
       "      <td>virginica</td>\n",
       "      <td>2</td>\n",
       "    </tr>\n",
       "    <tr>\n",
       "      <th>44</th>\n",
       "      <td>5.1</td>\n",
       "      <td>3.8</td>\n",
       "      <td>1.9</td>\n",
       "      <td>0.4</td>\n",
       "      <td>setosa</td>\n",
       "      <td>0</td>\n",
       "    </tr>\n",
       "    <tr>\n",
       "      <th>29</th>\n",
       "      <td>4.7</td>\n",
       "      <td>3.2</td>\n",
       "      <td>1.6</td>\n",
       "      <td>0.2</td>\n",
       "      <td>setosa</td>\n",
       "      <td>0</td>\n",
       "    </tr>\n",
       "    <tr>\n",
       "      <th>120</th>\n",
       "      <td>6.9</td>\n",
       "      <td>3.2</td>\n",
       "      <td>5.7</td>\n",
       "      <td>2.3</td>\n",
       "      <td>virginica</td>\n",
       "      <td>2</td>\n",
       "    </tr>\n",
       "  </tbody>\n",
       "</table>\n",
       "</div>"
      ],
      "text/plain": [
       "     sepal length (cm)  sepal width (cm)  petal length (cm)  petal width (cm)  \\\n",
       "14                 5.8               4.0                1.2               0.2   \n",
       "98                 5.1               2.5                3.0               1.1   \n",
       "75                 6.6               3.0                4.4               1.4   \n",
       "16                 5.4               3.9                1.3               0.4   \n",
       "131                7.9               3.8                6.4               2.0   \n",
       "56                 6.3               3.3                4.7               1.6   \n",
       "141                6.9               3.1                5.1               2.3   \n",
       "44                 5.1               3.8                1.9               0.4   \n",
       "29                 4.7               3.2                1.6               0.2   \n",
       "120                6.9               3.2                5.7               2.3   \n",
       "\n",
       "          class  target  \n",
       "14       setosa       0  \n",
       "98   versicolor       1  \n",
       "75   versicolor       1  \n",
       "16       setosa       0  \n",
       "131   virginica       2  \n",
       "56   versicolor       1  \n",
       "141   virginica       2  \n",
       "44       setosa       0  \n",
       "29       setosa       0  \n",
       "120   virginica       2  "
      ]
     },
     "execution_count": 3,
     "metadata": {},
     "output_type": "execute_result"
    }
   ],
   "source": [
    "data = datasets.load_iris()\n",
    "datasets.load_iris().keys()\n",
    "df = pd.DataFrame(data = data.data)\n",
    "df.columns = data.feature_names\n",
    "df['class'] = data.target\n",
    "df['target'] = data.target\n",
    "df['class'] = df['class'].apply(lambda x: data['target_names'][x])\n",
    "df.sample(n=10, random_state=1)"
   ]
  },
  {
   "cell_type": "markdown",
   "metadata": {},
   "source": [
    "## Load your data into X and y\n"
   ]
  },
  {
   "cell_type": "code",
   "execution_count": 31,
   "metadata": {},
   "outputs": [],
   "source": [
    "# load your data into X and y numpy arrays\n",
    "# X = df[['sepal length (cm)','sepal width (cm)','petal length (cm)', 'petal width (cm)']].to_numpy()\n",
    "X = df[['petal length (cm)', 'petal width (cm)']].to_numpy()\n",
    "y = df['target'].to_numpy()"
   ]
  },
  {
   "cell_type": "code",
   "execution_count": 12,
   "metadata": {},
   "outputs": [],
   "source": [
    "assert X is not None and type(X) == np.ndarray, 'X should be defined and be a numpy array'\n",
    "assert y is not None and type(y) == np.ndarray, 'y should be defined and be a numpy array'"
   ]
  },
  {
   "cell_type": "markdown",
   "metadata": {},
   "source": [
    "## Plot X showing the class\n",
    "\n",
    "example\n",
    "<img src=\"data:image/png;base64,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\" width=\"300\"/>"
   ]
  },
  {
   "cell_type": "code",
   "execution_count": 20,
   "metadata": {},
   "outputs": [
    {
     "data": {
      "image/png": "[encoded data removed]",
      "text/plain": [
       "<Figure size 432x288 with 1 Axes>"
      ]
     },
     "metadata": {
      "needs_background": "light"
     },
     "output_type": "display_data"
    }
   ],
   "source": [
    "# plot X showing the classes hold in y\n",
    "plt.scatter(df['sepal length (cm)'].values,df['target'].values)\n",
    "plt.scatter(df['sepal width (cm)'].values, df['target'].values)\n",
    "plt.show()"
   ]
  },
  {
   "cell_type": "markdown",
   "metadata": {},
   "source": [
    "## Fit the model"
   ]
  },
  {
   "cell_type": "code",
   "execution_count": 32,
   "metadata": {},
   "outputs": [],
   "source": [
    "X_train, X_test, y_train, y_test = train_test_split(X, y, test_size=0.2)"
   ]
  },
  {
   "cell_type": "code",
   "execution_count": 15,
   "metadata": {},
   "outputs": [],
   "source": [
    "model = KNN(K=3)\n",
    "model.fit(X_train, y_train)"
   ]
  },
  {
   "cell_type": "code",
   "execution_count": 16,
   "metadata": {},
   "outputs": [],
   "source": [
    "assert model is not None and type(model) == KNN,'Fit method should return itself'"
   ]
  },
  {
   "cell_type": "markdown",
   "metadata": {},
   "source": [
    "## Predict the classes for the same data"
   ]
  },
  {
   "cell_type": "code",
   "execution_count": 17,
   "metadata": {},
   "outputs": [
    {
     "name": "stdout",
     "output_type": "stream",
     "text": [
      "Accuracy 93.33%\n"
     ]
    }
   ],
   "source": [
    "prediction = model.predict(X_test)\n",
    "print('Accuracy {:0.2f}%'.format(model.evaluate(prediction, y_test)))\n",
    "# print(accuracy_score(y_test, prediction))"
   ]
  },
  {
   "cell_type": "markdown",
   "metadata": {},
   "source": [
    "## Show the decission boundaries depending on K for your model\n",
    "example\n",
    "<img src=\"https://i.stack.imgur.com/ZDVhm.png\" width=\"300\"/>\n",
    "(tricky one so we are going to help you out with this one)"
   ]
  },
  {
   "cell_type": "code",
   "execution_count": 43,
   "metadata": {},
   "outputs": [
    {
     "data": {
      "image/png": "[encoded data removed]",
      "text/plain": [
       "<Figure size 432x288 with 1 Axes>"
      ]
     },
     "metadata": {
      "needs_background": "light"
     },
     "output_type": "display_data"
    }
   ],
   "source": [
    "from ipywidgets import interact\n",
    "\n",
    "@interact\n",
    "def plot_decision_boundary(k=(1,10,1)):\n",
    "    model = KNN(K=k)\n",
    "    model.fit(X, y)\n",
    "    \n",
    "    x_min, x_max = X[:, 0].min() - 1, X[:, 0].max() + 1\n",
    "    y_min, y_max = X[:, 1].min() - 1, X[:, 1].max() + 1\n",
    "    \n",
    "    xx, yy = np.meshgrid(np.arange(x_min, x_max, 0.5),\n",
    "                         np.arange(y_min, y_max, 0.5))\n",
    "    Z = model.predict(np.c_[xx.ravel(), yy.ravel()])\n",
    "    \n",
    "    Z = Z.reshape(xx.shape)\n",
    "    plt.pcolormesh(xx, yy, Z, shading='auto')\n",
    "\n",
    "    for c in set(y):\n",
    "        plt.scatter(*X[y==c].T)\n",
    "    "
   ]
  },
  {
   "cell_type": "markdown",
   "metadata": {},
   "source": [
    "# Repeat this process with Dataset 2 and Dataset 3"
   ]
  },
  {
   "cell_type": "code",
   "execution_count": 22,
   "metadata": {},
   "outputs": [
    {
     "data": {
      "text/html": [
       "<div>\n",
       "<style scoped>\n",
       "    .dataframe tbody tr th:only-of-type {\n",
       "        vertical-align: middle;\n",
       "    }\n",
       "\n",
       "    .dataframe tbody tr th {\n",
       "        vertical-align: top;\n",
       "    }\n",
       "\n",
       "    .dataframe thead th {\n",
       "        text-align: right;\n",
       "    }\n",
       "</style>\n",
       "<table border=\"1\" class=\"dataframe\">\n",
       "  <thead>\n",
       "    <tr style=\"text-align: right;\">\n",
       "      <th></th>\n",
       "      <th>Pregnancies</th>\n",
       "      <th>Glucose</th>\n",
       "      <th>BloodPressure</th>\n",
       "      <th>SkinThickness</th>\n",
       "      <th>Insulin</th>\n",
       "      <th>BMI</th>\n",
       "      <th>DiabetesPedigreeFunction</th>\n",
       "      <th>Age</th>\n",
       "      <th>Outcome</th>\n",
       "    </tr>\n",
       "  </thead>\n",
       "  <tbody>\n",
       "    <tr>\n",
       "      <th>0</th>\n",
       "      <td>6</td>\n",
       "      <td>148</td>\n",
       "      <td>72</td>\n",
       "      <td>35</td>\n",
       "      <td>0</td>\n",
       "      <td>33.6</td>\n",
       "      <td>0.627</td>\n",
       "      <td>50</td>\n",
       "      <td>1</td>\n",
       "    </tr>\n",
       "    <tr>\n",
       "      <th>1</th>\n",
       "      <td>1</td>\n",
       "      <td>85</td>\n",
       "      <td>66</td>\n",
       "      <td>29</td>\n",
       "      <td>0</td>\n",
       "      <td>26.6</td>\n",
       "      <td>0.351</td>\n",
       "      <td>31</td>\n",
       "      <td>0</td>\n",
       "    </tr>\n",
       "    <tr>\n",
       "      <th>2</th>\n",
       "      <td>8</td>\n",
       "      <td>183</td>\n",
       "      <td>64</td>\n",
       "      <td>0</td>\n",
       "      <td>0</td>\n",
       "      <td>23.3</td>\n",
       "      <td>0.672</td>\n",
       "      <td>32</td>\n",
       "      <td>1</td>\n",
       "    </tr>\n",
       "    <tr>\n",
       "      <th>3</th>\n",
       "      <td>1</td>\n",
       "      <td>89</td>\n",
       "      <td>66</td>\n",
       "      <td>23</td>\n",
       "      <td>94</td>\n",
       "      <td>28.1</td>\n",
       "      <td>0.167</td>\n",
       "      <td>21</td>\n",
       "      <td>0</td>\n",
       "    </tr>\n",
       "    <tr>\n",
       "      <th>4</th>\n",
       "      <td>0</td>\n",
       "      <td>137</td>\n",
       "      <td>40</td>\n",
       "      <td>35</td>\n",
       "      <td>168</td>\n",
       "      <td>43.1</td>\n",
       "      <td>2.288</td>\n",
       "      <td>33</td>\n",
       "      <td>1</td>\n",
       "    </tr>\n",
       "  </tbody>\n",
       "</table>\n",
       "</div>"
      ],
      "text/plain": [
       "   Pregnancies  Glucose  BloodPressure  SkinThickness  Insulin   BMI  \\\n",
       "0            6      148             72             35        0  33.6   \n",
       "1            1       85             66             29        0  26.6   \n",
       "2            8      183             64              0        0  23.3   \n",
       "3            1       89             66             23       94  28.1   \n",
       "4            0      137             40             35      168  43.1   \n",
       "\n",
       "   DiabetesPedigreeFunction  Age  Outcome  \n",
       "0                     0.627   50        1  \n",
       "1                     0.351   31        0  \n",
       "2                     0.672   32        1  \n",
       "3                     0.167   21        0  \n",
       "4                     2.288   33        1  "
      ]
     },
     "execution_count": 22,
     "metadata": {},
     "output_type": "execute_result"
    }
   ],
   "source": [
    "## Diabetese\n",
    "df1 = pd.read_csv('C:/Users/NimeshsinhDesai/Strive_School/Strive_School/w8/d7_knn_naive_bayes/datasets/diabetes.csv', sep=',')\n",
    "df1.head()"
   ]
  },
  {
   "cell_type": "code",
   "execution_count": 23,
   "metadata": {},
   "outputs": [],
   "source": [
    "X = df1.drop('Outcome', axis=1).to_numpy()\n",
    "y = df1['Outcome'].to_numpy()"
   ]
  },
  {
   "cell_type": "code",
   "execution_count": 24,
   "metadata": {},
   "outputs": [],
   "source": [
    "X_train, X_test, y_train, y_test = train_test_split(X, y, test_size=0.2)"
   ]
  },
  {
   "cell_type": "code",
   "execution_count": 52,
   "metadata": {},
   "outputs": [],
   "source": [
    "model2 = KNN(K=3)\n",
    "model2.fit(X_train, y_train)"
   ]
  },
  {
   "cell_type": "code",
   "execution_count": 53,
   "metadata": {},
   "outputs": [
    {
     "name": "stdout",
     "output_type": "stream",
     "text": [
      "Accuracy 68.18%\n"
     ]
    }
   ],
   "source": [
    "prediction2 = model2.predict(X_test)\n",
    "print('Accuracy {:0.2f}%'.format(model2.evaluate(prediction2, y_test)))\n",
    "# print(accuracy_score(y_test, prediction))"
   ]
  },
  {
   "cell_type": "markdown",
   "metadata": {},
   "source": [
    "# Compare performance vs Sklearn"
   ]
  },
  {
   "cell_type": "code",
   "execution_count": 33,
   "metadata": {},
   "outputs": [
    {
     "data": {
      "text/plain": [
       "KNeighborsClassifier(n_neighbors=3)"
      ]
     },
     "execution_count": 33,
     "metadata": {},
     "output_type": "execute_result"
    }
   ],
   "source": [
    "## Iris data\n",
    "from sklearn.neighbors import KNeighborsClassifier\n",
    "    \n",
    "model1 = KNeighborsClassifier(n_neighbors=3)\n",
    "model1.fit(X_train, y_train)"
   ]
  },
  {
   "cell_type": "code",
   "execution_count": 34,
   "metadata": {},
   "outputs": [
    {
     "name": "stdout",
     "output_type": "stream",
     "text": [
      "0.9666666666666667\n"
     ]
    }
   ],
   "source": [
    "prediction1 = model1.predict(X_test)\n",
    "# print('Accuracy {:0.2f}%'.format(model.evaluate(prediction1, y_test)))\n",
    "print(accuracy_score(y_test, prediction1))"
   ]
  },
  {
   "cell_type": "code",
   "execution_count": 29,
   "metadata": {},
   "outputs": [
    {
     "data": {
      "text/plain": [
       "KNeighborsClassifier(n_neighbors=3)"
      ]
     },
     "execution_count": 29,
     "metadata": {},
     "output_type": "execute_result"
    }
   ],
   "source": [
    "## Diabetes data\n",
    "model3 = KNeighborsClassifier(n_neighbors=3)\n",
    "model3.fit(X_train, y_train)"
   ]
  },
  {
   "cell_type": "code",
   "execution_count": 30,
   "metadata": {},
   "outputs": [
    {
     "name": "stdout",
     "output_type": "stream",
     "text": [
      "0.7077922077922078\n"
     ]
    }
   ],
   "source": [
    "prediction3 = model3.predict(X_test)\n",
    "# print('Accuracy {:0.2f}%'.format(model3.evaluate(prediction3, y_test)))\n",
    "print(accuracy_score(y_test, prediction1))"
   ]
  }
 ],
 "metadata": {
  "kernelspec": {
   "display_name": "Python 3",
   "language": "python",
   "name": "python3"
  },
  "language_info": {
   "codemirror_mode": {
    "name": "ipython",
    "version": 3
   },
   "file_extension": ".py",
   "mimetype": "text/x-python",
   "name": "python",
   "nbconvert_exporter": "python",
   "pygments_lexer": "ipython3",
   "version": "3.7.4"
  }
 },
 "nbformat": 4,
 "nbformat_minor": 4
}
